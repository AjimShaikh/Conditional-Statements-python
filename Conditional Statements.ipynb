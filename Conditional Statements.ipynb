{
 "cells": [
  {
   "cell_type": "code",
   "execution_count": null,
   "id": "ed55f4c0",
   "metadata": {},
   "outputs": [],
   "source": [
    "#Conditional Statements"
   ]
  },
  {
   "cell_type": "code",
   "execution_count": null,
   "id": "1ce40866",
   "metadata": {},
   "outputs": [],
   "source": [
    "#Write a program to read a number from user and find whether number is odd or even.\n"
   ]
  },
  {
   "cell_type": "code",
   "execution_count": null,
   "id": "8ec43f67",
   "metadata": {},
   "outputs": [],
   "source": []
  },
  {
   "cell_type": "code",
   "execution_count": 3,
   "id": "2c0101c5",
   "metadata": {},
   "outputs": [
    {
     "name": "stdout",
     "output_type": "stream",
     "text": [
      "Enter The Number10\n",
      "Number is Even\n"
     ]
    }
   ],
   "source": [
    "number = (int(input(\"Enter The Number\")))\n",
    "\n",
    "if number % 2==0:\n",
    "    print(\"Number is Even\")\n",
    "else:\n",
    "    print(\"Number is Odd\")"
   ]
  },
  {
   "cell_type": "code",
   "execution_count": null,
   "id": "ba80f9cc",
   "metadata": {},
   "outputs": [],
   "source": []
  },
  {
   "cell_type": "code",
   "execution_count": null,
   "id": "f499b94c",
   "metadata": {},
   "outputs": [],
   "source": [
    "#Read three numbers from keyboard and find largest of them."
   ]
  },
  {
   "cell_type": "code",
   "execution_count": 9,
   "id": "13783fff",
   "metadata": {},
   "outputs": [
    {
     "name": "stdout",
     "output_type": "stream",
     "text": [
      "Enter the first number: 10\n",
      "Enter the Second number: 5\n",
      "ENter the third number: 8\n",
      "First Number is Greater \n"
     ]
    }
   ],
   "source": [
    "num_1 = int(input(\"Enter the first number: \"))\n",
    "num_2 = int(input(\"Enter the Second number: \"))\n",
    "num_3 = int(input(\"ENter the third number: \"))\n",
    "\n",
    "if (num_1>num_2) and (num_1>num_3):\n",
    "    print(\"First Number is Greater \")\n",
    "elif (num_2>num_3) and (num_2>num_3):\n",
    "    print(\"Second number is Greater\")\n",
    "else:\n",
    "    print(\"Third number is Greater\")"
   ]
  },
  {
   "cell_type": "code",
   "execution_count": null,
   "id": "d7d256a6",
   "metadata": {},
   "outputs": [],
   "source": []
  },
  {
   "cell_type": "code",
   "execution_count": null,
   "id": "74cf4bea",
   "metadata": {},
   "outputs": [],
   "source": [
    "#Read an year and find whether that year is leap or not?  using Math Module)\n"
   ]
  },
  {
   "cell_type": "code",
   "execution_count": 14,
   "id": "7c45d5f8",
   "metadata": {},
   "outputs": [],
   "source": [
    "import calendar"
   ]
  },
  {
   "cell_type": "code",
   "execution_count": 16,
   "id": "fd766713",
   "metadata": {},
   "outputs": [
    {
     "name": "stdout",
     "output_type": "stream",
     "text": [
      "Enter the year that you want to check: 2013\n",
      "The year entered 2013 is not a Leap Year\n"
     ]
    }
   ],
   "source": [
    "a = int(input(\"Enter the year that you want to check: \"))\n",
    "\n",
    "num = calendar.isleap(a)\n",
    "\n",
    "if num == True:\n",
    "\n",
    "    print(\"The year entered %s is a Leap Year\" %a) \n",
    "\n",
    "else:\n",
    "\n",
    "    print(\"The year entered %s is not a Leap Year\" %a)"
   ]
  },
  {
   "cell_type": "code",
   "execution_count": null,
   "id": "7e383123",
   "metadata": {},
   "outputs": [],
   "source": []
  },
  {
   "cell_type": "code",
   "execution_count": null,
   "id": "14879ef7",
   "metadata": {},
   "outputs": [],
   "source": [
    "#Read an year and find whether that year is leap or not?  (using Nested If Condition)"
   ]
  },
  {
   "cell_type": "code",
   "execution_count": 48,
   "id": "a6573b78",
   "metadata": {},
   "outputs": [
    {
     "name": "stdout",
     "output_type": "stream",
     "text": [
      " Enter the year that you want to check: 2012\n",
      "The year entered 2012 is a leap year\n"
     ]
    }
   ],
   "source": [
    "a = int(input(\" Enter the year that you want to check: \"))\n",
    "if(a%4)==0:\n",
    "    \n",
    "    if(a%100)==0:\n",
    "        \n",
    "        if(a%400)==0:\n",
    "            \n",
    "           print(\"The year entered %s is a leap year\" %a)\n",
    "\n",
    "        else:\n",
    "\n",
    "            print(\"The year entered %s is not a leap year\" %a)\n",
    "\n",
    "    else:\n",
    "\n",
    "        print(\"The year entered %s is a leap year\" %a)\n",
    "\n",
    "else:\n",
    "\n",
    "    print(\"The year entered %s is not a leap year\" %a)\n",
    "    "
   ]
  },
  {
   "cell_type": "code",
   "execution_count": null,
   "id": "0ab7ab0f",
   "metadata": {},
   "outputs": [],
   "source": []
  },
  {
   "cell_type": "code",
   "execution_count": null,
   "id": "06dde576",
   "metadata": {},
   "outputs": [],
   "source": [
    "#Read marks in percentages from student and find\n",
    "#the grade of it as per below condition:\n",
    "#– Above 75% : ‘Distinction’\n",
    "#– 60% to below 75%: ‘First Class’\n",
    "#– 50% to below 60%: ‘Second Class’\n",
    "#– 40% to below 50%: ‘Pass Class’\n",
    "#– Below 40%: ‘Failed’\n"
   ]
  },
  {
   "cell_type": "code",
   "execution_count": 9,
   "id": "95fbbd39",
   "metadata": {},
   "outputs": [
    {
     "name": "stdout",
     "output_type": "stream",
     "text": [
      "Enter The Percenage : 88\n",
      "Distinction\n"
     ]
    }
   ],
   "source": [
    "perc = int(input(\"Enter The Percenage : \"))\n",
    "\n",
    "if(perc>75):\n",
    "    print(\"Distinction\")\n",
    "elif(perc<75) and (perc>60):\n",
    "    print(\"First Class\")\n",
    "elif(perc<60) and (perc>50):\n",
    "    print(\"Second Class\")\n",
    "elif(perc<50) and (perc>40):\n",
    "    print(\"Pass Class\")\n",
    "elif(perc<40):\n",
    "    print(\"Faild\")"
   ]
  },
  {
   "cell_type": "code",
   "execution_count": 10,
   "id": "99a4d9d3",
   "metadata": {},
   "outputs": [],
   "source": [
    "#Write a Python program to calculate profit or loss. Input is selling cost and actual cost."
   ]
  },
  {
   "cell_type": "code",
   "execution_count": 17,
   "id": "369ed602",
   "metadata": {},
   "outputs": [
    {
     "name": "stdout",
     "output_type": "stream",
     "text": [
      "Enter The Actual Cost: 100\n",
      "Enter the selling cost: 150\n",
      "Proft is 50\n"
     ]
    }
   ],
   "source": [
    "actual_cost = int(input(\"Enter The Actual Cost: \"))\n",
    "selling_cost = int(input(\"Enter the selling cost: \"))\n",
    "\n",
    "if(actual_cost > selling_cost):\n",
    "    loss =  actual_cost - selling_cost\n",
    "    print(\"Loss :\", loss)\n",
    "elif(selling_cost > actual_cost):\n",
    "    profit = selling_cost - actual_cost\n",
    "    print(\"Proft is\", profit)\n",
    "    "
   ]
  },
  {
   "cell_type": "code",
   "execution_count": null,
   "id": "6377e5cb",
   "metadata": {},
   "outputs": [],
   "source": []
  },
  {
   "cell_type": "code",
   "execution_count": 18,
   "id": "664945e3",
   "metadata": {},
   "outputs": [],
   "source": [
    "#Write a Python program to check whether a character is uppercase or lowercase alphabet."
   ]
  },
  {
   "cell_type": "code",
   "execution_count": 25,
   "id": "4b7c9645",
   "metadata": {},
   "outputs": [
    {
     "name": "stdout",
     "output_type": "stream",
     "text": [
      "Enter the Alphabet :AJIM\n",
      "Uppar Case\n"
     ]
    }
   ],
   "source": [
    "char = str(input(\"Enter the Alphabet :\"))\n",
    "\n",
    "if(char.isupper()):\n",
    "    print(\"Uppar Case\")\n",
    "elif(char.islower()):\n",
    "    print(\"Lower Case\")\n",
    "else:\n",
    "    print(\"No Lower and No Upper\")"
   ]
  },
  {
   "cell_type": "code",
   "execution_count": null,
   "id": "dbfbef99",
   "metadata": {},
   "outputs": [],
   "source": []
  },
  {
   "cell_type": "code",
   "execution_count": null,
   "id": "630c2cb4",
   "metadata": {},
   "outputs": [],
   "source": [
    "#Write a Python program to input electricity unit charges and\n",
    "#calculate total electricity bill according to the given condition:\n",
    "#– For first 50 units Rs. 0.50/unit\n",
    "#– For next 100 units Rs. 0.75/unit\n",
    "#– For next 100 units Rs. 1.25/unit\n",
    "#– For unit above 250 Rs. 1.50/unit\n"
   ]
  }
 ],
 "metadata": {
  "kernelspec": {
   "display_name": "Python 3 (ipykernel)",
   "language": "python",
   "name": "python3"
  },
  "language_info": {
   "codemirror_mode": {
    "name": "ipython",
    "version": 3
   },
   "file_extension": ".py",
   "mimetype": "text/x-python",
   "name": "python",
   "nbconvert_exporter": "python",
   "pygments_lexer": "ipython3",
   "version": "3.9.12"
  }
 },
 "nbformat": 4,
 "nbformat_minor": 5
}
